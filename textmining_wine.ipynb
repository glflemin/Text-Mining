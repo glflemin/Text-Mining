{
 "cells": [
  {
   "cell_type": "code",
   "execution_count": 1,
   "metadata": {},
   "outputs": [
    {
     "name": "stderr",
     "output_type": "stream",
     "text": [
      "C:\\Users\\Grant\\Anaconda3\\lib\\site-packages\\gensim\\utils.py:1197: UserWarning: detected Windows; aliasing chunkize to chunkize_serial\n",
      "  warnings.warn(\"detected Windows; aliasing chunkize to chunkize_serial\")\n"
     ]
    }
   ],
   "source": [
    "import os\n",
    "import nltk\n",
    "#nltk.download('stopwords')\n",
    "#nltk.download('wordnet')\n",
    "import re\n",
    "import scipy \n",
    "import string\n",
    "import sklearn as sl \n",
    "import pandas as pd\n",
    "import gensim as gs\n",
    "import pickle as pkl\n",
    "import PIL \n",
    "import wordcloud\n",
    "os.chdir(\"C:\\\\Users\\\\Grant\\\\Documents\\\\GitHub\\\\Text-Mining\\\\\")"
   ]
  },
  {
   "cell_type": "code",
   "execution_count": 2,
   "metadata": {},
   "outputs": [
    {
     "data": {
      "text/plain": [
       "pandas.core.series.Series"
      ]
     },
     "execution_count": 2,
     "metadata": {},
     "output_type": "execute_result"
    }
   ],
   "source": [
    "# import\n",
    "df = pd.read_csv(r'Wine_Review_US.csv') # what's up with the r's?\n",
    "doc = []\n",
    "descriptions = df['description']\n",
    "type(descriptions) # made a series"
   ]
  },
  {
   "cell_type": "code",
   "execution_count": 3,
   "metadata": {},
   "outputs": [
    {
     "name": "stdout",
     "output_type": "stream",
     "text": [
      "[]\n"
     ]
    }
   ],
   "source": [
    "# remove punctuation\n",
    "#nltk.download('punkt')\n",
    "punc = re.compile('[%s]' % re.escape(string.punctuation))\n",
    "term_vec = []\n",
    "for d in doc: \n",
    "    d = d.lower()\n",
    "    d = punc.sub('', d)\n",
    "    term_vec.append(d)\n",
    "\n",
    "print(term_vec[0:10])\n"
   ]
  },
  {
   "cell_type": "code",
   "execution_count": 6,
   "metadata": {},
   "outputs": [
    {
     "name": "stdout",
     "output_type": "stream",
     "text": [
      "[]\n"
     ]
    }
   ],
   "source": [
    "#tokenize\n",
    "token_term_vec=[]\n",
    "for elm in term_vec:\n",
    "    token_term_vec.append(nltk.word_tokenize(elm))\n",
    "print(token_term_vec[0:10])\n"
   ]
  },
  {
   "cell_type": "code",
   "execution_count": 6,
   "metadata": {},
   "outputs": [
    {
     "name": "stdout",
     "output_type": "stream",
     "text": [
      "[['tremendous', '100', 'varietal', 'hails', 'oakville', 'aged', 'three', 'years', 'oak', 'juicy', 'redcherry', 'fruit', 'compelling', 'hint', 'caramel', 'greet', 'palate', 'framed', 'elegant', 'fine', 'tannins', 'subtle', 'minty', 'tone', 'background', 'balanced', 'rewarding', 'start', 'finish', 'years', 'ahead', 'develop', 'nuance', 'enjoy', '2022–2030'], ['mac', 'watson', 'honors', 'memory', 'made', 'mother', 'tremendously', 'delicious', 'balanced', 'complex', 'botrytised', 'white', 'dark', 'gold', 'color', 'layers', 'toasted', 'hazelnut', 'pear', 'compote', 'orange', 'peel', 'reveling', 'succulence', '122', 'gl', 'residual', 'sugar'], ['spent', '20', 'months', '30', 'new', 'french', 'oak', 'incorporates', 'fruit', 'ponzis', 'aurora', 'abetina', 'madrona', 'vineyards', 'among', 'others', 'aromatic', 'dense', 'toasty', 'deftly', 'blends', 'aromas', 'toast', 'cigar', 'box', 'blackberry', 'black', 'cherry', 'coffee', 'graphite', 'tannins', 'polished', 'fine', 'sheen', 'frame', 'finish', 'loaded', 'dark', 'chocolate', 'espresso', '2032'], ['renamed', 'vineyard', 'formerly', 'bottled', 'delancellotti', 'youll', 'find', 'striking', 'minerality', 'underscoring', 'chunky', 'black', 'fruits', 'accents', 'citrus', 'graphite', 'comingle', 'exceptional', 'midpalate', 'concentration', 'cellar', 'though', 'already', 'quite', 'enjoyable', '2030'], ['producer', 'sources', 'two', 'blocks', 'vineyard', 'wine—one', 'high', 'elevation', 'contributes', 'bright', 'acidity', 'crunchy', 'cranberry', 'pomegranate', 'orange', 'peel', 'surround', 'silky', 'succulent', 'layers', 'texture', 'present', 'fleshy', 'fruit', 'delicately', 'lush', 'considerable', 'length'], ['18yearold', 'vines', 'supple', 'wellbalanced', 'effort', 'blends', 'mocha', 'cherry', 'vanilla', 'breakfast', 'tea', 'superbly', 'integrated', 'delicious', 'even', 'early', 'stage', 'seems', 'destined', 'long', 'savory', 'cellar', 'life', '2028'], ['standout', 'even', 'terrific', 'lineup', '2015', 'releases', 'patricia', 'green', 'weber', 'opens', 'burst', 'cola', 'tobacco', 'scents', 'accents', 'continues', 'subtle', 'detailed', 'oranges', 'vanilla', 'tea', 'milk', 'chocolate', 'discreetly', 'threaded', 'ripe', 'blackberry', 'fruit'], ['sophisticated', 'mix', 'mineral', 'acid', 'tart', 'fruits', 'seductive', 'effort', 'pleases', 'start', 'finish', 'supple', 'dense', 'got', 'strawberry', 'blueberry', 'plum', 'black', 'cherry', 'touch', 'chocolate', 'underlying', 'streak', 'mineral', 'elements', 'good', 'proportion', 'finish', 'appealing', 'silky', 'texture', 'delicious', 'already', 'give', 'another', 'decade', 'full', 'enjoyment', '2028'], ['first', 'made', '2006', 'succulent', 'luscious', 'chardonnay', 'minerality', 'got', 'rich', 'core', 'butterscotch', 'seemingly', 'endless', 'layers', 'subtle', 'biodynamic', 'farming', 'bring', 'spends', '18', 'months', 'lees', 'prior', 'bottling', '2028'], ['blockbuster', 'powerhouse', 'suggests', 'blueberry', 'pie', 'chocolate', 'opens', 'glass', 'palate', 'smooth', 'seductively', 'silky', 'offering', 'complex', 'cedar', 'peppercorn', 'peppery', 'oak', 'seasonings', 'amidst', 'dense', 'richness', 'finishes', 'finesse', 'spice']]\n"
     ]
    }
   ],
   "source": [
    "#remove stop words\n",
    "#nltk.download('stopwords')\n",
    "\n",
    "stopwords = nltk.corpus.stopwords.words('english')\n",
    "morewords = ['drink', 'drinks', 'wine', 'wines', 'note', 'notes', 'flavor', 'flavors',\n",
    "             'wine', 'wines', 'grape', 'grapes']\n",
    "stopwords.extend(morewords)\n",
    "\n",
    "nsw_term_vec = []\n",
    "for review in token_term_vec: \n",
    "    wr=[]\n",
    "    for word in review:\n",
    "        if word not in stopwords:\n",
    "            wr.append(word)    \n",
    "    nsw_term_vec.append(wr)\n",
    "            \n",
    "print(nsw_term_vec[0:10])\n",
    "\n"
   ]
  },
  {
   "cell_type": "code",
   "execution_count": 8,
   "metadata": {},
   "outputs": [
    {
     "name": "stdout",
     "output_type": "stream",
     "text": [
      "[['tremendous', '100', 'varietal', 'hail', 'oakville', 'aged', 'three', 'year', 'oak', 'juicy', 'redcherry', 'fruit', 'compelling', 'hint', 'caramel', 'greet', 'palate', 'framed', 'elegant', 'fine', 'tannin', 'subtle', 'minty', 'tone', 'background', 'balanced', 'rewarding', 'start', 'finish', 'year', 'ahead', 'develop', 'nuance', 'enjoy', '2022–2030'], ['mac', 'watson', 'honor', 'memory', 'made', 'mother', 'tremendously', 'delicious', 'balanced', 'complex', 'botrytised', 'white', 'dark', 'gold', 'color', 'layer', 'toasted', 'hazelnut', 'pear', 'compote', 'orange', 'peel', 'reveling', 'succulence', '122', 'gl', 'residual', 'sugar'], ['spent', '20', 'month', '30', 'new', 'french', 'oak', 'incorporates', 'fruit', 'ponzis', 'aurora', 'abetina', 'madrona', 'vineyard', 'among', 'others', 'aromatic', 'dense', 'toasty', 'deftly', 'blend', 'aroma', 'toast', 'cigar', 'box', 'blackberry', 'black', 'cherry', 'coffee', 'graphite', 'tannin', 'polished', 'fine', 'sheen', 'frame', 'finish', 'loaded', 'dark', 'chocolate', 'espresso', '2032'], ['renamed', 'vineyard', 'formerly', 'bottled', 'delancellotti', 'youll', 'find', 'striking', 'minerality', 'underscoring', 'chunky', 'black', 'fruit', 'accent', 'citrus', 'graphite', 'comingle', 'exceptional', 'midpalate', 'concentration', 'cellar', 'though', 'already', 'quite', 'enjoyable', '2030'], ['producer', 'source', 'two', 'block', 'vineyard', 'wine—one', 'high', 'elevation', 'contributes', 'bright', 'acidity', 'crunchy', 'cranberry', 'pomegranate', 'orange', 'peel', 'surround', 'silky', 'succulent', 'layer', 'texture', 'present', 'fleshy', 'fruit', 'delicately', 'lush', 'considerable', 'length'], ['18yearold', 'vine', 'supple', 'wellbalanced', 'effort', 'blend', 'mocha', 'cherry', 'vanilla', 'breakfast', 'tea', 'superbly', 'integrated', 'delicious', 'even', 'early', 'stage', 'seems', 'destined', 'long', 'savory', 'cellar', 'life', '2028'], ['standout', 'even', 'terrific', 'lineup', '2015', 'release', 'patricia', 'green', 'weber', 'open', 'burst', 'cola', 'tobacco', 'scent', 'accent', 'continues', 'subtle', 'detailed', 'orange', 'vanilla', 'tea', 'milk', 'chocolate', 'discreetly', 'threaded', 'ripe', 'blackberry', 'fruit'], ['sophisticated', 'mix', 'mineral', 'acid', 'tart', 'fruit', 'seductive', 'effort', 'plea', 'start', 'finish', 'supple', 'dense', 'got', 'strawberry', 'blueberry', 'plum', 'black', 'cherry', 'touch', 'chocolate', 'underlying', 'streak', 'mineral', 'element', 'good', 'proportion', 'finish', 'appealing', 'silky', 'texture', 'delicious', 'already', 'give', 'another', 'decade', 'full', 'enjoyment', '2028'], ['first', 'made', '2006', 'succulent', 'luscious', 'chardonnay', 'minerality', 'got', 'rich', 'core', 'butterscotch', 'seemingly', 'endless', 'layer', 'subtle', 'biodynamic', 'farming', 'bring', 'spends', '18', 'month', 'lee', 'prior', 'bottling', '2028'], ['blockbuster', 'powerhouse', 'suggests', 'blueberry', 'pie', 'chocolate', 'open', 'glass', 'palate', 'smooth', 'seductively', 'silky', 'offering', 'complex', 'cedar', 'peppercorn', 'peppery', 'oak', 'seasoning', 'amidst', 'dense', 'richness', 'finish', 'finesse', 'spice']]\n"
     ]
    }
   ],
   "source": [
    "# Lemmatize data\n",
    "#nltk.download('wordnet')\n",
    "wnl = nltk.stem.WordNetLemmatizer()\n",
    "\n",
    "cln_term_vec = []\n",
    "for reviews in nsw_term_vec:\n",
    "    lemma=[]\n",
    "    for words in reviews:\n",
    "        lemma.append(wnl.lemmatize(words))\n",
    "    cln_term_vec.append(lemma)\n",
    "    \n",
    "print(cln_term_vec[0:10])"
   ]
  },
  {
   "cell_type": "code",
   "execution_count": 19,
   "metadata": {},
   "outputs": [
    {
     "ename": "NameError",
     "evalue": "name 'WordCloud' is not defined",
     "output_type": "error",
     "traceback": [
      "\u001b[1;31m---------------------------------------------------------------------------\u001b[0m",
      "\u001b[1;31mNameError\u001b[0m                                 Traceback (most recent call last)",
      "\u001b[1;32m<ipython-input-19-8cb33f577d1b>\u001b[0m in \u001b[0;36m<module>\u001b[1;34m()\u001b[0m\n\u001b[0;32m      1\u001b[0m \u001b[1;31m# wordcloud trial\u001b[0m\u001b[1;33m\u001b[0m\u001b[1;33m\u001b[0m\u001b[0m\n\u001b[0;32m      2\u001b[0m \u001b[0mtext\u001b[0m \u001b[1;33m=\u001b[0m \u001b[0mcln_term_vec\u001b[0m\u001b[1;33m[\u001b[0m\u001b[1;36m0\u001b[0m\u001b[1;33m]\u001b[0m\u001b[1;33m\u001b[0m\u001b[0m\n\u001b[1;32m----> 3\u001b[1;33m \u001b[0mwordcloud\u001b[0m \u001b[1;33m=\u001b[0m \u001b[0mWordCloud\u001b[0m\u001b[1;33m(\u001b[0m\u001b[1;33m)\u001b[0m\u001b[1;33m.\u001b[0m\u001b[0mgenerate\u001b[0m\u001b[1;33m(\u001b[0m\u001b[0mtext\u001b[0m\u001b[1;33m)\u001b[0m\u001b[1;33m\u001b[0m\u001b[0m\n\u001b[0m",
      "\u001b[1;31mNameError\u001b[0m: name 'WordCloud' is not defined"
     ]
    }
   ],
   "source": [
    "# wordcloud trial\n",
    "text = cln_term_vec[0]\n",
    "wordcloud = WordCloud().generate(text)"
   ]
  },
  {
   "cell_type": "code",
   "execution_count": 10,
   "metadata": {},
   "outputs": [
    {
     "name": "stdout",
     "output_type": "stream",
     "text": [
      "['mac', 'watson', 'honor', 'memory', 'made', 'mother', 'tremendously', 'delicious', 'balanced', 'complex', 'botrytised', 'white', 'dark', 'gold', 'color', 'layer', 'toasted', 'hazelnut', 'pear', 'compote', 'orange', 'peel', 'reveling', 'succulence', '122', 'gl', 'residual', 'sugar']\n"
     ]
    }
   ],
   "source": [
    "print(cln_term_vec[1])"
   ]
  }
 ],
 "metadata": {
  "kernelspec": {
   "display_name": "Python 3",
   "language": "python",
   "name": "python3"
  },
  "language_info": {
   "codemirror_mode": {
    "name": "ipython",
    "version": 3
   },
   "file_extension": ".py",
   "mimetype": "text/x-python",
   "name": "python",
   "nbconvert_exporter": "python",
   "pygments_lexer": "ipython3",
   "version": "3.6.4"
  }
 },
 "nbformat": 4,
 "nbformat_minor": 2
}
