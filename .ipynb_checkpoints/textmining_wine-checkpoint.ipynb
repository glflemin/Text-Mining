{
 "cells": [
  {
   "cell_type": "code",
   "execution_count": 20,
   "metadata": {},
   "outputs": [
    {
     "name": "stderr",
     "output_type": "stream",
     "text": [
      "C:\\Users\\Grant\\Anaconda3\\lib\\site-packages\\PIL\\Image.py:86: RuntimeWarning: The _imaging extension was built for another version of Pillow or PIL:\n",
      "Core version: 5.3.0\n",
      "Pillow version: 5.0.0\n",
      "  \"recompile Pillow or build Python --without-wide-unicode. \",\n"
     ]
    },
    {
     "ename": "ImportError",
     "evalue": "The _imaging extension was built for another version of Pillow or PIL:\nCore version: 5.3.0\nPillow version: 5.0.0",
     "output_type": "error",
     "traceback": [
      "\u001b[1;31m---------------------------------------------------------------------------\u001b[0m",
      "\u001b[1;31mImportError\u001b[0m                               Traceback (most recent call last)",
      "\u001b[1;32m<ipython-input-20-3fc32c78f4f3>\u001b[0m in \u001b[0;36m<module>\u001b[1;34m()\u001b[0m\n\u001b[0;32m     11\u001b[0m \u001b[1;32mimport\u001b[0m \u001b[0mpickle\u001b[0m \u001b[1;32mas\u001b[0m \u001b[0mpkl\u001b[0m\u001b[1;33m\u001b[0m\u001b[0m\n\u001b[0;32m     12\u001b[0m \u001b[1;32mimport\u001b[0m \u001b[0mPIL\u001b[0m\u001b[1;33m\u001b[0m\u001b[0m\n\u001b[1;32m---> 13\u001b[1;33m \u001b[1;32mimport\u001b[0m \u001b[0mwordcloud\u001b[0m\u001b[1;33m\u001b[0m\u001b[0m\n\u001b[0m\u001b[0;32m     14\u001b[0m \u001b[0mos\u001b[0m\u001b[1;33m.\u001b[0m\u001b[0mchdir\u001b[0m\u001b[1;33m(\u001b[0m\u001b[1;34m\"C:\\\\Users\\\\Grant\\\\Documents\\\\GitHub\\\\Text-Mining\\\\\"\u001b[0m\u001b[1;33m)\u001b[0m\u001b[1;33m\u001b[0m\u001b[0m\n",
      "\u001b[1;32m~\\Anaconda3\\lib\\site-packages\\wordcloud\\__init__.py\u001b[0m in \u001b[0;36m<module>\u001b[1;34m()\u001b[0m\n\u001b[1;32m----> 1\u001b[1;33m from .wordcloud import (WordCloud, STOPWORDS, random_color_func,\n\u001b[0m\u001b[0;32m      2\u001b[0m                         get_single_color_func)\n\u001b[0;32m      3\u001b[0m \u001b[1;32mfrom\u001b[0m \u001b[1;33m.\u001b[0m\u001b[0mcolor_from_image\u001b[0m \u001b[1;32mimport\u001b[0m \u001b[0mImageColorGenerator\u001b[0m\u001b[1;33m\u001b[0m\u001b[0m\n\u001b[0;32m      4\u001b[0m \u001b[1;33m\u001b[0m\u001b[0m\n\u001b[0;32m      5\u001b[0m __all__ = ['WordCloud', 'STOPWORDS', 'random_color_func',\n",
      "\u001b[1;32m~\\Anaconda3\\lib\\site-packages\\wordcloud\\wordcloud.py\u001b[0m in \u001b[0;36m<module>\u001b[1;34m()\u001b[0m\n\u001b[0;32m     17\u001b[0m \u001b[1;32mfrom\u001b[0m \u001b[0moperator\u001b[0m \u001b[1;32mimport\u001b[0m \u001b[0mitemgetter\u001b[0m\u001b[1;33m\u001b[0m\u001b[0m\n\u001b[0;32m     18\u001b[0m \u001b[1;33m\u001b[0m\u001b[0m\n\u001b[1;32m---> 19\u001b[1;33m \u001b[1;32mfrom\u001b[0m \u001b[0mPIL\u001b[0m \u001b[1;32mimport\u001b[0m \u001b[0mImage\u001b[0m\u001b[1;33m\u001b[0m\u001b[0m\n\u001b[0m\u001b[0;32m     20\u001b[0m \u001b[1;32mfrom\u001b[0m \u001b[0mPIL\u001b[0m \u001b[1;32mimport\u001b[0m \u001b[0mImageColor\u001b[0m\u001b[1;33m\u001b[0m\u001b[0m\n\u001b[0;32m     21\u001b[0m \u001b[1;32mfrom\u001b[0m \u001b[0mPIL\u001b[0m \u001b[1;32mimport\u001b[0m \u001b[0mImageDraw\u001b[0m\u001b[1;33m\u001b[0m\u001b[0m\n",
      "\u001b[1;32m~\\Anaconda3\\lib\\site-packages\\PIL\\Image.py\u001b[0m in \u001b[0;36m<module>\u001b[1;34m()\u001b[0m\n\u001b[0;32m     69\u001b[0m                           \u001b[1;34m\"Pillow version: %s\"\u001b[0m \u001b[1;33m%\u001b[0m\u001b[1;33m\u001b[0m\u001b[0m\n\u001b[0;32m     70\u001b[0m                           (getattr(core, 'PILLOW_VERSION', None),\n\u001b[1;32m---> 71\u001b[1;33m                            __version__))\n\u001b[0m\u001b[0;32m     72\u001b[0m \u001b[1;33m\u001b[0m\u001b[0m\n\u001b[0;32m     73\u001b[0m \u001b[1;32mexcept\u001b[0m \u001b[0mImportError\u001b[0m \u001b[1;32mas\u001b[0m \u001b[0mv\u001b[0m\u001b[1;33m:\u001b[0m\u001b[1;33m\u001b[0m\u001b[0m\n",
      "\u001b[1;31mImportError\u001b[0m: The _imaging extension was built for another version of Pillow or PIL:\nCore version: 5.3.0\nPillow version: 5.0.0"
     ]
    }
   ],
   "source": [
    "import os\n",
    "import nltk\n",
    "#nltk.download('stopwords')\n",
    "#nltk.download('wordnet')\n",
    "import re\n",
    "import scipy \n",
    "import string\n",
    "import sklearn as sl \n",
    "import pandas as pd\n",
    "import gensim as gs\n",
    "import pickle as pkl\n",
    "import PIL \n",
    "import wordcloud\n",
    "os.chdir(\"C:\\\\Users\\\\Grant\\\\Documents\\\\GitHub\\\\Text-Mining\\\\\")"
   ]
  },
  {
   "cell_type": "code",
   "execution_count": 3,
   "metadata": {},
   "outputs": [],
   "source": [
    "\n",
    "\n",
    "# delete any line that says %%capture to make the output show!\n",
    "\n",
    "#importing the wine\n",
    "\n",
    "df = pd.read_csv('winemag-data_first150k.csv', index_col='id')\n",
    "df.head(n=5) #works\n",
    "\n",
    "# want to show top words in the dataset in general \n",
    "# top words in top 3 countries, using country flag word clouds\n",
    "# top words for each 20 point category of wine (right categorical split?) OR clustering wines \n",
    "#   by rating/words to show that wine revie \n",
    "#"
   ]
  },
  {
   "cell_type": "code",
   "execution_count": 4,
   "metadata": {},
   "outputs": [],
   "source": [
    "# remove punctuation\n",
    "#nltk.download('punkt')\n",
    "punc = re.compile('[%s]' % re.escape(string.punctuation))\n",
    "term_vec = []\n",
    "for d in doc: \n",
    "    d = d.lower()\n",
    "    d = punc.sub('', d)\n",
    "    term_vec.append(d)\n",
    "\n",
    "#print(term_vec[0:10])\n"
   ]
  },
  {
   "cell_type": "code",
   "execution_count": 5,
   "metadata": {},
   "outputs": [
    {
     "name": "stdout",
     "output_type": "stream",
     "text": [
      "[['this', 'tremendous', '100', 'varietal', 'wine', 'hails', 'from', 'oakville', 'and', 'was', 'aged', 'over', 'three', 'years', 'in', 'oak', 'juicy', 'redcherry', 'fruit', 'and', 'a', 'compelling', 'hint', 'of', 'caramel', 'greet', 'the', 'palate', 'framed', 'by', 'elegant', 'fine', 'tannins', 'and', 'a', 'subtle', 'minty', 'tone', 'in', 'the', 'background', 'balanced', 'and', 'rewarding', 'from', 'start', 'to', 'finish', 'it', 'has', 'years', 'ahead', 'of', 'it', 'to', 'develop', 'further', 'nuance', 'enjoy', '2022–2030'], ['mac', 'watson', 'honors', 'the', 'memory', 'of', 'a', 'wine', 'once', 'made', 'by', 'his', 'mother', 'in', 'this', 'tremendously', 'delicious', 'balanced', 'and', 'complex', 'botrytised', 'white', 'dark', 'gold', 'in', 'color', 'it', 'layers', 'toasted', 'hazelnut', 'pear', 'compote', 'and', 'orange', 'peel', 'flavors', 'reveling', 'in', 'the', 'succulence', 'of', 'its', '122', 'gl', 'of', 'residual', 'sugar'], ['this', 'spent', '20', 'months', 'in', '30', 'new', 'french', 'oak', 'and', 'incorporates', 'fruit', 'from', 'ponzis', 'aurora', 'abetina', 'and', 'madrona', 'vineyards', 'among', 'others', 'aromatic', 'dense', 'and', 'toasty', 'it', 'deftly', 'blends', 'aromas', 'and', 'flavors', 'of', 'toast', 'cigar', 'box', 'blackberry', 'black', 'cherry', 'coffee', 'and', 'graphite', 'tannins', 'are', 'polished', 'to', 'a', 'fine', 'sheen', 'and', 'frame', 'a', 'finish', 'loaded', 'with', 'dark', 'chocolate', 'and', 'espresso', 'drink', 'now', 'through', '2032'], ['this', 'renamed', 'vineyard', 'was', 'formerly', 'bottled', 'as', 'delancellotti', 'youll', 'find', 'striking', 'minerality', 'underscoring', 'chunky', 'black', 'fruits', 'accents', 'of', 'citrus', 'and', 'graphite', 'comingle', 'with', 'exceptional', 'midpalate', 'concentration', 'this', 'is', 'a', 'wine', 'to', 'cellar', 'though', 'it', 'is', 'already', 'quite', 'enjoyable', 'drink', 'now', 'through', '2030'], ['the', 'producer', 'sources', 'from', 'two', 'blocks', 'of', 'the', 'vineyard', 'for', 'this', 'wine—one', 'at', 'a', 'high', 'elevation', 'which', 'contributes', 'bright', 'acidity', 'crunchy', 'cranberry', 'pomegranate', 'and', 'orange', 'peel', 'flavors', 'surround', 'silky', 'succulent', 'layers', 'of', 'texture', 'that', 'present', 'as', 'fleshy', 'fruit', 'that', 'delicately', 'lush', 'flavor', 'has', 'considerable', 'length'], ['from', '18yearold', 'vines', 'this', 'supple', 'wellbalanced', 'effort', 'blends', 'flavors', 'of', 'mocha', 'cherry', 'vanilla', 'and', 'breakfast', 'tea', 'superbly', 'integrated', 'and', 'delicious', 'even', 'at', 'this', 'early', 'stage', 'this', 'wine', 'seems', 'destined', 'for', 'a', 'long', 'and', 'savory', 'cellar', 'life', 'drink', 'now', 'through', '2028'], ['a', 'standout', 'even', 'in', 'this', 'terrific', 'lineup', 'of', '2015', 'releases', 'from', 'patricia', 'green', 'the', 'weber', 'opens', 'with', 'a', 'burst', 'of', 'cola', 'and', 'tobacco', 'scents', 'and', 'accents', 'it', 'continues', 'subtle', 'and', 'detailed', 'with', 'flavors', 'of', 'oranges', 'vanilla', 'tea', 'and', 'milk', 'chocolate', 'discreetly', 'threaded', 'through', 'ripe', 'blackberry', 'fruit'], ['with', 'its', 'sophisticated', 'mix', 'of', 'mineral', 'acid', 'and', 'tart', 'fruits', 'this', 'seductive', 'effort', 'pleases', 'from', 'start', 'to', 'finish', 'supple', 'and', 'dense', 'its', 'got', 'strawberry', 'blueberry', 'plum', 'and', 'black', 'cherry', 'a', 'touch', 'of', 'chocolate', 'and', 'that', 'underlying', 'streak', 'of', 'mineral', 'all', 'these', 'elements', 'are', 'in', 'good', 'proportion', 'and', 'finish', 'with', 'an', 'appealing', 'silky', 'texture', 'its', 'delicious', 'already', 'but', 'give', 'it', 'another', 'decade', 'for', 'full', 'enjoyment', 'drink', 'now', 'through', '2028'], ['first', 'made', 'in', '2006', 'this', 'succulent', 'luscious', 'chardonnay', 'is', 'all', 'about', 'minerality', 'its', 'got', 'a', 'rich', 'core', 'of', 'butterscotch', 'and', 'the', 'seemingly', 'endless', 'layers', 'of', 'subtle', 'flavors', 'that', 'biodynamic', 'farming', 'can', 'bring', 'it', 'spends', '18', 'months', 'on', 'the', 'lees', 'prior', 'to', 'bottling', 'drink', 'now', 'through', '2028'], ['this', 'blockbuster', 'powerhouse', 'of', 'a', 'wine', 'suggests', 'blueberry', 'pie', 'and', 'chocolate', 'as', 'it', 'opens', 'in', 'the', 'glass', 'on', 'the', 'palate', 'its', 'smooth', 'and', 'seductively', 'silky', 'offering', 'complex', 'cedar', 'peppercorn', 'and', 'peppery', 'oak', 'seasonings', 'amidst', 'its', 'dense', 'richness', 'it', 'finishes', 'with', 'finesse', 'and', 'spice']]\n"
     ]
    }
   ],
   "source": [
    "#tokenize\n",
    "token_term_vec=[]\n",
    "for elm in term_vec:\n",
    "    token_term_vec.append(nltk.word_tokenize(elm))\n",
    "    \n",
    "print(token_term_vec[0:10])\n"
   ]
  },
  {
   "cell_type": "code",
   "execution_count": 6,
   "metadata": {},
   "outputs": [
    {
     "name": "stdout",
     "output_type": "stream",
     "text": [
      "[['tremendous', '100', 'varietal', 'hails', 'oakville', 'aged', 'three', 'years', 'oak', 'juicy', 'redcherry', 'fruit', 'compelling', 'hint', 'caramel', 'greet', 'palate', 'framed', 'elegant', 'fine', 'tannins', 'subtle', 'minty', 'tone', 'background', 'balanced', 'rewarding', 'start', 'finish', 'years', 'ahead', 'develop', 'nuance', 'enjoy', '2022–2030'], ['mac', 'watson', 'honors', 'memory', 'made', 'mother', 'tremendously', 'delicious', 'balanced', 'complex', 'botrytised', 'white', 'dark', 'gold', 'color', 'layers', 'toasted', 'hazelnut', 'pear', 'compote', 'orange', 'peel', 'reveling', 'succulence', '122', 'gl', 'residual', 'sugar'], ['spent', '20', 'months', '30', 'new', 'french', 'oak', 'incorporates', 'fruit', 'ponzis', 'aurora', 'abetina', 'madrona', 'vineyards', 'among', 'others', 'aromatic', 'dense', 'toasty', 'deftly', 'blends', 'aromas', 'toast', 'cigar', 'box', 'blackberry', 'black', 'cherry', 'coffee', 'graphite', 'tannins', 'polished', 'fine', 'sheen', 'frame', 'finish', 'loaded', 'dark', 'chocolate', 'espresso', '2032'], ['renamed', 'vineyard', 'formerly', 'bottled', 'delancellotti', 'youll', 'find', 'striking', 'minerality', 'underscoring', 'chunky', 'black', 'fruits', 'accents', 'citrus', 'graphite', 'comingle', 'exceptional', 'midpalate', 'concentration', 'cellar', 'though', 'already', 'quite', 'enjoyable', '2030'], ['producer', 'sources', 'two', 'blocks', 'vineyard', 'wine—one', 'high', 'elevation', 'contributes', 'bright', 'acidity', 'crunchy', 'cranberry', 'pomegranate', 'orange', 'peel', 'surround', 'silky', 'succulent', 'layers', 'texture', 'present', 'fleshy', 'fruit', 'delicately', 'lush', 'considerable', 'length'], ['18yearold', 'vines', 'supple', 'wellbalanced', 'effort', 'blends', 'mocha', 'cherry', 'vanilla', 'breakfast', 'tea', 'superbly', 'integrated', 'delicious', 'even', 'early', 'stage', 'seems', 'destined', 'long', 'savory', 'cellar', 'life', '2028'], ['standout', 'even', 'terrific', 'lineup', '2015', 'releases', 'patricia', 'green', 'weber', 'opens', 'burst', 'cola', 'tobacco', 'scents', 'accents', 'continues', 'subtle', 'detailed', 'oranges', 'vanilla', 'tea', 'milk', 'chocolate', 'discreetly', 'threaded', 'ripe', 'blackberry', 'fruit'], ['sophisticated', 'mix', 'mineral', 'acid', 'tart', 'fruits', 'seductive', 'effort', 'pleases', 'start', 'finish', 'supple', 'dense', 'got', 'strawberry', 'blueberry', 'plum', 'black', 'cherry', 'touch', 'chocolate', 'underlying', 'streak', 'mineral', 'elements', 'good', 'proportion', 'finish', 'appealing', 'silky', 'texture', 'delicious', 'already', 'give', 'another', 'decade', 'full', 'enjoyment', '2028'], ['first', 'made', '2006', 'succulent', 'luscious', 'chardonnay', 'minerality', 'got', 'rich', 'core', 'butterscotch', 'seemingly', 'endless', 'layers', 'subtle', 'biodynamic', 'farming', 'bring', 'spends', '18', 'months', 'lees', 'prior', 'bottling', '2028'], ['blockbuster', 'powerhouse', 'suggests', 'blueberry', 'pie', 'chocolate', 'opens', 'glass', 'palate', 'smooth', 'seductively', 'silky', 'offering', 'complex', 'cedar', 'peppercorn', 'peppery', 'oak', 'seasonings', 'amidst', 'dense', 'richness', 'finishes', 'finesse', 'spice']]\n"
     ]
    }
   ],
   "source": [
    "#remove stop words\n",
    "#nltk.download('stopwords')\n",
    "\n",
    "stopwords = nltk.corpus.stopwords.words('english')\n",
    "morewords = ['drink', 'drinks', 'wine', 'wines', 'note', 'notes', 'flavor', 'flavors',\n",
    "             'wine', 'wines', 'grape', 'grapes']\n",
    "stopwords.extend(morewords)\n",
    "\n",
    "nsw_term_vec = []\n",
    "for review in token_term_vec: \n",
    "    wr=[]\n",
    "    for word in review:\n",
    "        if word not in stopwords:\n",
    "            wr.append(word)    \n",
    "    nsw_term_vec.append(wr)\n",
    "            \n",
    "print(nsw_term_vec[0:10])\n",
    "\n"
   ]
  },
  {
   "cell_type": "code",
   "execution_count": 8,
   "metadata": {},
   "outputs": [
    {
     "name": "stdout",
     "output_type": "stream",
     "text": [
      "[['tremendous', '100', 'varietal', 'hail', 'oakville', 'aged', 'three', 'year', 'oak', 'juicy', 'redcherry', 'fruit', 'compelling', 'hint', 'caramel', 'greet', 'palate', 'framed', 'elegant', 'fine', 'tannin', 'subtle', 'minty', 'tone', 'background', 'balanced', 'rewarding', 'start', 'finish', 'year', 'ahead', 'develop', 'nuance', 'enjoy', '2022–2030'], ['mac', 'watson', 'honor', 'memory', 'made', 'mother', 'tremendously', 'delicious', 'balanced', 'complex', 'botrytised', 'white', 'dark', 'gold', 'color', 'layer', 'toasted', 'hazelnut', 'pear', 'compote', 'orange', 'peel', 'reveling', 'succulence', '122', 'gl', 'residual', 'sugar'], ['spent', '20', 'month', '30', 'new', 'french', 'oak', 'incorporates', 'fruit', 'ponzis', 'aurora', 'abetina', 'madrona', 'vineyard', 'among', 'others', 'aromatic', 'dense', 'toasty', 'deftly', 'blend', 'aroma', 'toast', 'cigar', 'box', 'blackberry', 'black', 'cherry', 'coffee', 'graphite', 'tannin', 'polished', 'fine', 'sheen', 'frame', 'finish', 'loaded', 'dark', 'chocolate', 'espresso', '2032'], ['renamed', 'vineyard', 'formerly', 'bottled', 'delancellotti', 'youll', 'find', 'striking', 'minerality', 'underscoring', 'chunky', 'black', 'fruit', 'accent', 'citrus', 'graphite', 'comingle', 'exceptional', 'midpalate', 'concentration', 'cellar', 'though', 'already', 'quite', 'enjoyable', '2030'], ['producer', 'source', 'two', 'block', 'vineyard', 'wine—one', 'high', 'elevation', 'contributes', 'bright', 'acidity', 'crunchy', 'cranberry', 'pomegranate', 'orange', 'peel', 'surround', 'silky', 'succulent', 'layer', 'texture', 'present', 'fleshy', 'fruit', 'delicately', 'lush', 'considerable', 'length'], ['18yearold', 'vine', 'supple', 'wellbalanced', 'effort', 'blend', 'mocha', 'cherry', 'vanilla', 'breakfast', 'tea', 'superbly', 'integrated', 'delicious', 'even', 'early', 'stage', 'seems', 'destined', 'long', 'savory', 'cellar', 'life', '2028'], ['standout', 'even', 'terrific', 'lineup', '2015', 'release', 'patricia', 'green', 'weber', 'open', 'burst', 'cola', 'tobacco', 'scent', 'accent', 'continues', 'subtle', 'detailed', 'orange', 'vanilla', 'tea', 'milk', 'chocolate', 'discreetly', 'threaded', 'ripe', 'blackberry', 'fruit'], ['sophisticated', 'mix', 'mineral', 'acid', 'tart', 'fruit', 'seductive', 'effort', 'plea', 'start', 'finish', 'supple', 'dense', 'got', 'strawberry', 'blueberry', 'plum', 'black', 'cherry', 'touch', 'chocolate', 'underlying', 'streak', 'mineral', 'element', 'good', 'proportion', 'finish', 'appealing', 'silky', 'texture', 'delicious', 'already', 'give', 'another', 'decade', 'full', 'enjoyment', '2028'], ['first', 'made', '2006', 'succulent', 'luscious', 'chardonnay', 'minerality', 'got', 'rich', 'core', 'butterscotch', 'seemingly', 'endless', 'layer', 'subtle', 'biodynamic', 'farming', 'bring', 'spends', '18', 'month', 'lee', 'prior', 'bottling', '2028'], ['blockbuster', 'powerhouse', 'suggests', 'blueberry', 'pie', 'chocolate', 'open', 'glass', 'palate', 'smooth', 'seductively', 'silky', 'offering', 'complex', 'cedar', 'peppercorn', 'peppery', 'oak', 'seasoning', 'amidst', 'dense', 'richness', 'finish', 'finesse', 'spice']]\n"
     ]
    }
   ],
   "source": [
    "# Lemmatize data\n",
    "#nltk.download('wordnet')\n",
    "wnl = nltk.stem.WordNetLemmatizer()\n",
    "\n",
    "cln_term_vec = []\n",
    "for reviews in nsw_term_vec:\n",
    "    lemma=[]\n",
    "    for words in reviews:\n",
    "        lemma.append(wnl.lemmatize(words))\n",
    "    cln_term_vec.append(lemma)\n",
    "    \n",
    "print(cln_term_vec[0:10])"
   ]
  },
  {
   "cell_type": "code",
   "execution_count": 19,
   "metadata": {},
   "outputs": [
    {
     "ename": "NameError",
     "evalue": "name 'WordCloud' is not defined",
     "output_type": "error",
     "traceback": [
      "\u001b[1;31m---------------------------------------------------------------------------\u001b[0m",
      "\u001b[1;31mNameError\u001b[0m                                 Traceback (most recent call last)",
      "\u001b[1;32m<ipython-input-19-8cb33f577d1b>\u001b[0m in \u001b[0;36m<module>\u001b[1;34m()\u001b[0m\n\u001b[0;32m      1\u001b[0m \u001b[1;31m# wordcloud trial\u001b[0m\u001b[1;33m\u001b[0m\u001b[1;33m\u001b[0m\u001b[0m\n\u001b[0;32m      2\u001b[0m \u001b[0mtext\u001b[0m \u001b[1;33m=\u001b[0m \u001b[0mcln_term_vec\u001b[0m\u001b[1;33m[\u001b[0m\u001b[1;36m0\u001b[0m\u001b[1;33m]\u001b[0m\u001b[1;33m\u001b[0m\u001b[0m\n\u001b[1;32m----> 3\u001b[1;33m \u001b[0mwordcloud\u001b[0m \u001b[1;33m=\u001b[0m \u001b[0mWordCloud\u001b[0m\u001b[1;33m(\u001b[0m\u001b[1;33m)\u001b[0m\u001b[1;33m.\u001b[0m\u001b[0mgenerate\u001b[0m\u001b[1;33m(\u001b[0m\u001b[0mtext\u001b[0m\u001b[1;33m)\u001b[0m\u001b[1;33m\u001b[0m\u001b[0m\n\u001b[0m",
      "\u001b[1;31mNameError\u001b[0m: name 'WordCloud' is not defined"
     ]
    }
   ],
   "source": [
    "# wordcloud trial\n",
    "text = cln_term_vec[0]\n",
    "wordcloud = WordCloud().generate(text)"
   ]
  },
  {
   "cell_type": "code",
   "execution_count": 10,
   "metadata": {},
   "outputs": [
    {
     "name": "stdout",
     "output_type": "stream",
     "text": [
      "['mac', 'watson', 'honor', 'memory', 'made', 'mother', 'tremendously', 'delicious', 'balanced', 'complex', 'botrytised', 'white', 'dark', 'gold', 'color', 'layer', 'toasted', 'hazelnut', 'pear', 'compote', 'orange', 'peel', 'reveling', 'succulence', '122', 'gl', 'residual', 'sugar']\n"
     ]
    }
   ],
   "source": [
    "print(cln_term_vec[1])"
   ]
  }
 ],
 "metadata": {
  "kernelspec": {
   "display_name": "Python 3",
   "language": "python",
   "name": "python3"
  },
  "language_info": {
   "codemirror_mode": {
    "name": "ipython",
    "version": 3
   },
   "file_extension": ".py",
   "mimetype": "text/x-python",
   "name": "python",
   "nbconvert_exporter": "python",
   "pygments_lexer": "ipython3",
   "version": "3.6.4"
  }
 },
 "nbformat": 4,
 "nbformat_minor": 2
}
